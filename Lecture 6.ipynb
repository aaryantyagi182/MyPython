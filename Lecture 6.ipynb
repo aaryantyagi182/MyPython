{
 "cells": [
  {
   "cell_type": "markdown",
   "metadata": {},
   "source": [
    "# list with range function"
   ]
  },
  {
   "cell_type": "code",
   "execution_count": 1,
   "metadata": {},
   "outputs": [
    {
     "name": "stdout",
     "output_type": "stream",
     "text": [
      "2\n",
      "4\n",
      "5\n",
      "67\n",
      "9\n"
     ]
    }
   ],
   "source": [
    "li=[2,4,5,67,9]\n",
    "for i in li:\n",
    "    print(i)"
   ]
  },
  {
   "cell_type": "code",
   "execution_count": 2,
   "metadata": {},
   "outputs": [
    {
     "data": {
      "text/plain": [
       "2"
      ]
     },
     "execution_count": 2,
     "metadata": {},
     "output_type": "execute_result"
    }
   ],
   "source": [
    "li[0]"
   ]
  },
  {
   "cell_type": "code",
   "execution_count": 3,
   "metadata": {},
   "outputs": [
    {
     "data": {
      "text/plain": [
       "5"
      ]
     },
     "execution_count": 3,
     "metadata": {},
     "output_type": "execute_result"
    }
   ],
   "source": [
    "len(li)"
   ]
  },
  {
   "cell_type": "code",
   "execution_count": 5,
   "metadata": {},
   "outputs": [
    {
     "name": "stdout",
     "output_type": "stream",
     "text": [
      "2\n",
      "4\n",
      "5\n",
      "67\n",
      "9\n"
     ]
    }
   ],
   "source": [
    "for i in range(len(li)): # for i in range(5)\n",
    "    print(li[i])"
   ]
  },
  {
   "cell_type": "code",
   "execution_count": 7,
   "metadata": {},
   "outputs": [
    {
     "name": "stdout",
     "output_type": "stream",
     "text": [
      "k\n",
      "j\n",
      "h\n",
      "j\n",
      "b\n",
      "f\n",
      "a\n",
      "k\n"
     ]
    }
   ],
   "source": [
    "s= \"kjhjbfak\"\n",
    "for i in range(len(s)):\n",
    "    print(s[i])"
   ]
  },
  {
   "cell_type": "markdown",
   "metadata": {},
   "source": [
    "# list using input function"
   ]
  },
  {
   "cell_type": "code",
   "execution_count": 8,
   "metadata": {},
   "outputs": [
    {
     "name": "stdout",
     "output_type": "stream",
     "text": [
      "[\"apple\",1,4]\n"
     ]
    }
   ],
   "source": [
    "a= input()"
   ]
  },
  {
   "cell_type": "code",
   "execution_count": 11,
   "metadata": {},
   "outputs": [
    {
     "data": {
      "text/plain": [
       "'a'"
      ]
     },
     "execution_count": 11,
     "metadata": {},
     "output_type": "execute_result"
    }
   ],
   "source": [
    "a[2] #a=\"[\"apple\",1,4]\""
   ]
  },
  {
   "cell_type": "code",
   "execution_count": 13,
   "metadata": {},
   "outputs": [
    {
     "name": "stdout",
     "output_type": "stream",
     "text": [
      "enter number of cars: 5\n",
      "enter colour of your car: blue\n",
      "enter colour of your car: red\n",
      "enter colour of your car: white\n",
      "enter colour of your car: black\n",
      "enter colour of your car: brown\n",
      "['blue', 'red', 'white', 'black', 'brown']\n"
     ]
    }
   ],
   "source": [
    "list1 = []\n",
    "n = int(input(\"enter number of cars: \"))\n",
    "for i in range(n):\n",
    "    s= input(\"enter colour of your car: \")\n",
    "    list1.append(s)\n",
    "print(list1)"
   ]
  },
  {
   "cell_type": "code",
   "execution_count": 14,
   "metadata": {},
   "outputs": [
    {
     "name": "stdout",
     "output_type": "stream",
     "text": [
      "5\n",
      "23\n",
      "45\n",
      "667\n",
      "9990\n",
      "12\n",
      "23  odd\n",
      "45  odd\n",
      "667  odd\n",
      "9990  even\n",
      "12  even\n"
     ]
    }
   ],
   "source": [
    "list2=[]\n",
    "n = int(input())\n",
    "for i in range(n):\n",
    "    s= int(input())\n",
    "    list2.append(s)\n",
    "for i in range(n):\n",
    "    if list2[i]%2==0:\n",
    "        print(list2[i],\" even\")\n",
    "    else:\n",
    "        print(list2[i],\" odd\")"
   ]
  },
  {
   "cell_type": "code",
   "execution_count": 17,
   "metadata": {},
   "outputs": [
    {
     "name": "stdout",
     "output_type": "stream",
     "text": [
      "23\n",
      "45\n",
      "667\n",
      "9990\n",
      "12\n"
     ]
    }
   ],
   "source": [
    "#24 even\n",
    "#45 odd\n",
    "n=5\n",
    "list2=[23,45,667,9990,12]\n",
    "for i in range(n): #range(0,5)\n",
    "    print(list2[i])"
   ]
  },
  {
   "cell_type": "code",
   "execution_count": null,
   "metadata": {},
   "outputs": [],
   "source": []
  }
 ],
 "metadata": {
  "kernelspec": {
   "display_name": "Python 3",
   "language": "python",
   "name": "python3"
  },
  "language_info": {
   "codemirror_mode": {
    "name": "ipython",
    "version": 3
   },
   "file_extension": ".py",
   "mimetype": "text/x-python",
   "name": "python",
   "nbconvert_exporter": "python",
   "pygments_lexer": "ipython3",
   "version": "3.7.6"
  }
 },
 "nbformat": 4,
 "nbformat_minor": 4
}
