{
 "cells": [
  {
   "cell_type": "markdown",
   "metadata": {},
   "source": [
    "# Print statement with format and %"
   ]
  },
  {
   "cell_type": "code",
   "execution_count": 2,
   "metadata": {},
   "outputs": [
    {
     "name": "stdout",
     "output_type": "stream",
     "text": [
      "12  *  1  =  12\n",
      "12  *  2  =  24\n",
      "12  *  3  =  36\n",
      "12  *  4  =  48\n",
      "12  *  5  =  60\n",
      "12  *  6  =  72\n",
      "12  *  7  =  84\n",
      "12  *  8  =  96\n",
      "12  *  9  =  108\n",
      "12  *  10  =  120\n",
      "\n",
      "13  *  1  =  13\n",
      "13  *  2  =  26\n",
      "13  *  3  =  39\n",
      "13  *  4  =  52\n",
      "13  *  5  =  65\n",
      "13  *  6  =  78\n",
      "13  *  7  =  91\n",
      "13  *  8  =  104\n",
      "13  *  9  =  117\n",
      "13  *  10  =  130\n",
      "\n"
     ]
    }
   ],
   "source": [
    "for i in [12,13]:\n",
    "    for j in range(1,11):\n",
    "        print(i,\" * \",j,\" = \",i*j)\n",
    "    print()"
   ]
  },
  {
   "cell_type": "markdown",
   "metadata": {},
   "source": [
    "# int - %d\n",
    "# float - %f\n",
    "# string - %s\n",
    "# char - %c"
   ]
  },
  {
   "cell_type": "code",
   "execution_count": 3,
   "metadata": {},
   "outputs": [
    {
     "name": "stdout",
     "output_type": "stream",
     "text": [
      "12 * 1 = 12\n",
      "12 * 2 = 24\n",
      "12 * 3 = 36\n",
      "12 * 4 = 48\n",
      "12 * 5 = 60\n",
      "12 * 6 = 72\n",
      "12 * 7 = 84\n",
      "12 * 8 = 96\n",
      "12 * 9 = 108\n",
      "12 * 10 = 120\n",
      "\n",
      "13 * 1 = 13\n",
      "13 * 2 = 26\n",
      "13 * 3 = 39\n",
      "13 * 4 = 52\n",
      "13 * 5 = 65\n",
      "13 * 6 = 78\n",
      "13 * 7 = 91\n",
      "13 * 8 = 104\n",
      "13 * 9 = 117\n",
      "13 * 10 = 130\n",
      "\n"
     ]
    }
   ],
   "source": [
    "for i in [12,13]:\n",
    "    for j in range(1,11):\n",
    "        print(\"%d * %d = %d\"%(i,j,i*j))\n",
    "    print()"
   ]
  },
  {
   "cell_type": "code",
   "execution_count": 7,
   "metadata": {},
   "outputs": [
    {
     "name": "stdout",
     "output_type": "stream",
     "text": [
      "average of this list is = 23.400\n"
     ]
    }
   ],
   "source": [
    "li = [12.2,23.5,34.5]\n",
    "a=sum(li)/len(li)\n",
    "print(\"average of this list is = %0.3f\"%(a))"
   ]
  },
  {
   "cell_type": "markdown",
   "metadata": {},
   "source": [
    "# Print statement using format"
   ]
  },
  {
   "cell_type": "code",
   "execution_count": 8,
   "metadata": {},
   "outputs": [
    {
     "name": "stdout",
     "output_type": "stream",
     "text": [
      "12 * 1 = 12\n",
      "12 * 2 = 24\n",
      "12 * 3 = 36\n",
      "12 * 4 = 48\n",
      "12 * 5 = 60\n",
      "12 * 6 = 72\n",
      "12 * 7 = 84\n",
      "12 * 8 = 96\n",
      "12 * 9 = 108\n",
      "12 * 10 = 120\n",
      "\n",
      "13 * 1 = 13\n",
      "13 * 2 = 26\n",
      "13 * 3 = 39\n",
      "13 * 4 = 52\n",
      "13 * 5 = 65\n",
      "13 * 6 = 78\n",
      "13 * 7 = 91\n",
      "13 * 8 = 104\n",
      "13 * 9 = 117\n",
      "13 * 10 = 130\n",
      "\n"
     ]
    }
   ],
   "source": [
    "for i in [12,13]:\n",
    "    for j in range(1,11):\n",
    "        print(\"{} * {} = {}\".format(i,j,i*j))\n",
    "    print()"
   ]
  },
  {
   "cell_type": "code",
   "execution_count": 14,
   "metadata": {},
   "outputs": [
    {
     "name": "stdout",
     "output_type": "stream",
     "text": [
      "average of this list is =  23.4\n"
     ]
    }
   ],
   "source": [
    "li = [12.2,23.5,34.5]\n",
    "print(\"average of this list is = \",round(sum(li)/len(li),ndigits=2))"
   ]
  },
  {
   "cell_type": "code",
   "execution_count": 16,
   "metadata": {},
   "outputs": [
    {
     "data": {
      "text/plain": [
       "23.5"
      ]
     },
     "execution_count": 16,
     "metadata": {},
     "output_type": "execute_result"
    }
   ],
   "source": [
    "round(23.5000,ndigits=3)"
   ]
  },
  {
   "cell_type": "markdown",
   "metadata": {},
   "source": [
    "# {} -> curly bracket\n",
    "\n",
    "# : -> colon\n",
    "\n",
    "# ; -> semi - colon\n",
    "\n",
    "# _ -> underscore\n",
    "\n",
    "# [ -> Bracket\n",
    "\n",
    "# ( -> parenthesis\n",
    "\n",
    "# \" -> quote\n",
    "\n",
    "# ' -> single quote \n",
    "\n",
    "# ! -> Exclamation\n",
    "\n",
    "# \\ -> Backslash\n",
    " \n",
    "# / -> Forward slash\n",
    "\n",
    "# & -> Ampersand"
   ]
  },
  {
   "cell_type": "markdown",
   "metadata": {},
   "source": [
    "# Binary Operation"
   ]
  },
  {
   "cell_type": "markdown",
   "metadata": {},
   "source": [
    "# Bytes and bits\n",
    "# 1 byte = 8(2^3) bits"
   ]
  },
  {
   "cell_type": "markdown",
   "metadata": {},
   "source": [
    " # 16(4 bits)  "
   ]
  },
  {
   "cell_type": "markdown",
   "metadata": {},
   "source": [
    "# Binary Function - Bin"
   ]
  },
  {
   "cell_type": "code",
   "execution_count": 17,
   "metadata": {},
   "outputs": [
    {
     "data": {
      "text/plain": [
       "'0b1000'"
      ]
     },
     "execution_count": 17,
     "metadata": {},
     "output_type": "execute_result"
    }
   ],
   "source": [
    "bin(8)"
   ]
  },
  {
   "cell_type": "code",
   "execution_count": 18,
   "metadata": {},
   "outputs": [
    {
     "data": {
      "text/plain": [
       "'0b1101'"
      ]
     },
     "execution_count": 18,
     "metadata": {},
     "output_type": "execute_result"
    }
   ],
   "source": [
    "bin(13)"
   ]
  },
  {
   "cell_type": "code",
   "execution_count": 19,
   "metadata": {},
   "outputs": [
    {
     "data": {
      "text/plain": [
       "'0b11101'"
      ]
     },
     "execution_count": 19,
     "metadata": {},
     "output_type": "execute_result"
    }
   ],
   "source": [
    "bin(29)"
   ]
  },
  {
   "cell_type": "markdown",
   "metadata": {},
   "source": [
    "# Computer understand the binary language"
   ]
  },
  {
   "cell_type": "markdown",
   "metadata": {},
   "source": [
    "how many bits and byte in 16?\n",
    "16 = 2^4 = 4 bits\n",
    "1 byte = 8 bits\n",
    "1/8 byte = 1 bits\n",
    "4/8 byte = 4 bits\n",
    "so ans is 4 bits and 1/2 byte."
   ]
  }
 ],
 "metadata": {
  "kernelspec": {
   "display_name": "Python 3",
   "language": "python",
   "name": "python3"
  },
  "language_info": {
   "codemirror_mode": {
    "name": "ipython",
    "version": 3
   },
   "file_extension": ".py",
   "mimetype": "text/x-python",
   "name": "python",
   "nbconvert_exporter": "python",
   "pygments_lexer": "ipython3",
   "version": "3.7.6"
  }
 },
 "nbformat": 4,
 "nbformat_minor": 4
}
