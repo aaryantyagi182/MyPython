{
 "cells": [
  {
   "cell_type": "code",
   "execution_count": 1,
   "metadata": {},
   "outputs": [],
   "source": [
    "import random\n",
    "import turtle"
   ]
  },
  {
   "cell_type": "code",
   "execution_count": 2,
   "metadata": {},
   "outputs": [],
   "source": [
    "turtle.reset()"
   ]
  },
  {
   "cell_type": "code",
   "execution_count": null,
   "metadata": {},
   "outputs": [],
   "source": []
  },
  {
   "cell_type": "code",
   "execution_count": 2,
   "metadata": {},
   "outputs": [],
   "source": [
    "def draw_board():\n",
    "    turtle.bgcolor(\"pink\")\n",
    "    turtle.pencolor(\"red\")\n",
    "    turtle.pensize(10)\n",
    "    turtle.forward(300)\n",
    "    turtle.backward(200)\n",
    "    turtle.left(90)\n",
    "    turtle.forward(100)\n",
    "    turtle.backward(300)\n",
    "    turtle.forward(100)\n",
    "    turtle.left(90)\n",
    "    turtle.forward(100)\n",
    "    turtle.backward(300)\n",
    "    turtle.forward(100)\n",
    "    turtle.right(90)\n",
    "    turtle.forward(200)\n",
    "    turtle.backward(300)"
   ]
  },
  {
   "cell_type": "code",
   "execution_count": 3,
   "metadata": {},
   "outputs": [],
   "source": [
    "def draw_x(x,y):\n",
    "    \n",
    "    turtle.pencolor(\"silver\")\n",
    "    turtle.penup()\n",
    "    turtle.goto(x,y)\n",
    "    turtle.pendown()\n",
    "    turtle.left(0)\n",
    "    turtle.right(45)\n",
    "    turtle.forward(100)\n",
    "    turtle.backward(50)\n",
    "    turtle.left(90)\n",
    "    turtle.forward(50)\n",
    "    turtle.backward(100)\n",
    "    turtle.right(45)"
   ]
  },
  {
   "cell_type": "code",
   "execution_count": 4,
   "metadata": {},
   "outputs": [],
   "source": [
    "def draw_circle(x,y):\n",
    "    turtle.penup()\n",
    "    turtle.goto(x,y)\n",
    "    turtle.pendown()\n",
    "    turtle.circle(30)\n",
    "    turtle.penup()"
   ]
  },
  {
   "cell_type": "code",
   "execution_count": 5,
   "metadata": {},
   "outputs": [],
   "source": [
    "def draw_horizontal_line(x,y):\n",
    "    \n",
    "    turtle.penup()\n",
    "    turtle.goto(x,y)\n",
    "    turtle.pendown()\n",
    "    turtle.left(0)\n",
    "    turtle.right(90)\n",
    "    turtle.forward(300)\n",
    "    turtle.backward(300)\n",
    "    turtle.right(180)"
   ]
  },
  {
   "cell_type": "code",
   "execution_count": 6,
   "metadata": {},
   "outputs": [],
   "source": [
    "def draw_left_angle_line(x,y):\n",
    "    turtle.penup()\n",
    "    turtle.goto(x,y)\n",
    "    turtle.pendown()\n",
    "    turtle.left(0)\n",
    "    turtle.right(135)\n",
    "    turtle.forward(400)"
   ]
  },
  {
   "cell_type": "code",
   "execution_count": 7,
   "metadata": {},
   "outputs": [],
   "source": [
    "def draw_right_angle_line(x,y):\n",
    "    turtle.penup()\n",
    "    turtle.goto(x,y)\n",
    "    turtle.pendown()\n",
    "    turtle.left(0)\n",
    "    turtle.left(135)\n",
    "    turtle.forward(400)"
   ]
  },
  {
   "cell_type": "code",
   "execution_count": 8,
   "metadata": {},
   "outputs": [],
   "source": [
    "def draw_vertical_line(x,y):\n",
    "\n",
    "    turtle.penup()\n",
    "    turtle.goto(x,y)\n",
    "    turtle.pendown()\n",
    "    turtle.left(0)\n",
    "    turtle.right(180)\n",
    "    turtle.forward(300)\n",
    "    turtle.left(0)"
   ]
  },
  {
   "cell_type": "code",
   "execution_count": 9,
   "metadata": {},
   "outputs": [],
   "source": [
    "def draw_marker(player, player_pos):\n",
    "    \n",
    "    if player_pos == 1 and player == 'o' :\n",
    "        ## circle index 1\n",
    "        draw_circle(80,50)\n",
    "        \n",
    "    elif player_pos == 2 and player == 'o':  \n",
    "        ## circle index 2\n",
    "        draw_circle(180,50)\n",
    "        \n",
    "    elif player_pos == 3 and player == 'o': \n",
    "        ### circle index 3\n",
    "        draw_circle(280,50)\n",
    "        \n",
    "    elif player_pos == 4 and player == 'o':\n",
    "        ### circle index 4\n",
    "        draw_circle(80,-40)\n",
    "\n",
    "    elif player_pos == 5 and player == 'o':\n",
    "        ### circle index 5\n",
    "        draw_circle(180,-40)\n",
    "        \n",
    "    elif player_pos == 6 and player == 'o': \n",
    "        ### circle index 6\n",
    "        draw_circle(280,-40)\n",
    "        \n",
    "    elif player_pos == 7 and player == 'o':\n",
    "        ### circle index 7\n",
    "        draw_circle(80,-140)\n",
    "        \n",
    "    elif player_pos == 8 and player == 'o':\n",
    "        ### circle index 8\n",
    "        draw_circle(180,-140)\n",
    "            \n",
    "    elif player_pos == 9 and player == 'o':\n",
    "        ### circle index 9\n",
    "        draw_circle(280,-140)\n",
    "\n",
    "    \n",
    "    elif player_pos == 1 and player == 'x':\n",
    "        # draw x_1    \n",
    "        draw_x(10,10)\n",
    "            \n",
    "    elif player_pos == 2 and player == 'x':\n",
    "        # draw x_2 \n",
    "        draw_x(110,10)\n",
    "            \n",
    "    elif player_pos == 3 and player == 'x':\n",
    "        # draw x_3 \n",
    "        draw_x(210,10)\n",
    "\n",
    "    elif player_pos == 4 and player == 'x':\n",
    "        # draw x_4\n",
    "        draw_x(10,-90)\n",
    "            \n",
    "    elif player_pos == 5 and player == 'x':\n",
    "        # draw x_5\n",
    "        draw_x(110,-90)\n",
    "            \n",
    "    elif player_pos == 6 and player == 'x':\n",
    "        # draw x_6\n",
    "        draw_x(210,-90)\n",
    "            \n",
    "    elif player_pos == 7 and player == 'x':\n",
    "        # draw x_7\n",
    "        draw_x(10,-190)\n",
    "            \n",
    "    elif player_pos == 8 and player == 'x':\n",
    "        # draw x_8\n",
    "        draw_x(110,-190)\n",
    "            \n",
    "    else:\n",
    "        # draw x_9\n",
    "        draw_x(210,-190)\n",
    "    "
   ]
  },
  {
   "cell_type": "code",
   "execution_count": 18,
   "metadata": {},
   "outputs": [],
   "source": [
    "board=['*',' ',' ',' ',' ',' ',' ',' ',' ',' ']\n",
    "\n",
    "vs =''\n",
    "player1 = ''\n",
    "player2 = ''\n",
    "player1_pos = ''\n",
    "player2_pos = ''\n",
    "move= 0\n",
    "\n",
    "\n",
    "def check_emptyspaces():\n",
    "    check = 0\n",
    "    for x in range(1,10):\n",
    "        if board[x] == ' ':\n",
    "            check = 1\n",
    "            \n",
    "    if check == 1 :\n",
    "        return True\n",
    "    else:\n",
    "        return False\n",
    "        "
   ]
  },
  {
   "cell_type": "code",
   "execution_count": 11,
   "metadata": {},
   "outputs": [],
   "source": [
    "def user_input(player):\n",
    "    if check_emptyspaces() == True :\n",
    "        \n",
    "        while (1) :\n",
    "            a = int(input(\"Player \" + player + \" Please select from 1 to 9 :\"))\n",
    "            if a > 0 and a <= 9 :\n",
    "                return a\n",
    "            else:\n",
    "                print(\"Oops ! That was a wrong number, please try again\")\n",
    "                    \n",
    "    else:\n",
    "        print(\"Draw\")"
   ]
  },
  {
   "cell_type": "code",
   "execution_count": 12,
   "metadata": {},
   "outputs": [],
   "source": [
    "def validate_position(position):\n",
    "\n",
    "    if board[position] == ' ':\n",
    "        return True\n",
    "\n",
    "    else:\n",
    "        return False"
   ]
  },
  {
   "cell_type": "code",
   "execution_count": 13,
   "metadata": {},
   "outputs": [],
   "source": [
    "def check_wins(player):\n",
    "    if board[1] == player and board[2] == player and board[3] == player:\n",
    "        draw_horizontal_line(10,50)\n",
    "        return True\n",
    "    \n",
    "    elif board[4] == player and board[5] == player and board[6] == player:\n",
    "        draw_horizontal_line(10,-50)\n",
    "        return True\n",
    "    \n",
    "    elif board[7] == player and board[8] == player and board[9] == player:\n",
    "        draw_horizontal_line(10,-150)\n",
    "        return True\n",
    "    \n",
    "    elif board[1] == player and board[5] == player and board[9] == player:\n",
    "        draw_left_angle_line(10,90)\n",
    "        return True\n",
    "    \n",
    "    elif board[3] == player and board[5] == player and board[7] == player:\n",
    "        draw_right_angle_line(300,90)\n",
    "        return True\n",
    "    \n",
    "    elif board[1] == player and board[4] == player and board[7] == player:\n",
    "        draw_vertical_line(50,90)\n",
    "        return True\n",
    "    \n",
    "    elif board[2] == player and board[5] == player and board[8] == player:\n",
    "        draw_vertical_line(150,90)\n",
    "        return True\n",
    "    \n",
    "    elif board[3] == player and board[6] == player and board[9] == player:\n",
    "        draw_vertical_line(250,90)\n",
    "        return True\n",
    "    \n",
    "    else:\n",
    "        return False"
   ]
  },
  {
   "cell_type": "code",
   "execution_count": 16,
   "metadata": {},
   "outputs": [],
   "source": [
    "def update(player, player_pos):\n",
    "\n",
    "    global move\n",
    "\n",
    "    if move != 9 :\n",
    "    \n",
    "        while validate_position(player_pos)!= True:\n",
    "            \n",
    "            player_pos = user_input(player)\n",
    "            \n",
    "        else:\n",
    "            \n",
    "            if check_emptyspaces() == True:\n",
    "                \n",
    "                board[player_pos] = player\n",
    "                draw_marker(player, player_pos)\n",
    "                move +=1"
   ]
  },
  {
   "cell_type": "code",
   "execution_count": null,
   "metadata": {},
   "outputs": [
    {
     "name": "stdout",
     "output_type": "stream",
     "text": [
      "Welcome to To Tic Tac Toe Game\n",
      "---------------------------------------\n",
      "---------- Rules ----------------------\n",
      "*******************************************\n",
      "* Get three in a row X or O               *\n",
      "* Select from 1 to 9 to put a marker      *\n",
      "* 1 is the top left and 9 is bottom right *\n",
      "*******************************************\n",
      "  Please Select The Options Below :\n",
      "---------------------------------------\n",
      "---------------------------------------\n",
      "Player 1 select x or o :o\n",
      "Let the Game begin !!! \n",
      "\n",
      "Player o Please select from 1 to 9 :1\n"
     ]
    }
   ],
   "source": [
    "print(  \"Welcome to To Tic Tac Toe Game\"       )\n",
    "print(\"---------------------------------------\")\n",
    "\n",
    "print('---------- Rules ----------------------')\n",
    "print('*******************************************')\n",
    "print('* Get three in a row X or O               *')\n",
    "print('* Select from 1 to 9 to put a marker      *')\n",
    "print('* 1 is the top left and 9 is bottom right *')\n",
    "print('*******************************************')\n",
    "print('  Please Select The Options Below :'    )\n",
    "print('---------------------------------------')\n",
    "print('---------------------------------------')\n",
    "player1 = str(input('Player 1 select x or o :'))\n",
    "if player1 == 'x' or player1 == 'o':\n",
    "    if player1 == 'x':\n",
    "        player2 = 'o'\n",
    "    else:\n",
    "        player2 = 'x'\n",
    "print(\"Let the Game begin !!! \\n\")\n",
    "draw_board()\n",
    "while check_emptyspaces() == True:\n",
    "\n",
    "   ####### Player 1 ############################\n",
    "    player1_pos = user_input(player1)\n",
    "    update(player1, player1_pos)\n",
    "                        \n",
    "    if check_wins(player1) == True :\n",
    "        print ('Player ', player1 , 'wins !!!!!')\n",
    "        break\n",
    "    player2_pos = user_input(player2)\n",
    "    update(player2, player2_pos) \n",
    "    \n",
    "    if check_wins(player2) == True :\n",
    "        print ('Player ', player2 , 'wins !!!!!')\n",
    "        break\n",
    "        \n",
    "if check_emptyspaces() != False :\n",
    "    print('Game Over !!!')"
   ]
  },
  {
   "cell_type": "code",
   "execution_count": 17,
   "metadata": {},
   "outputs": [],
   "source": [
    "turtle.reset()"
   ]
  },
  {
   "cell_type": "code",
   "execution_count": 42,
   "metadata": {},
   "outputs": [],
   "source": []
  },
  {
   "cell_type": "code",
   "execution_count": 63,
   "metadata": {},
   "outputs": [],
   "source": [
    "turtle.left(0)\n",
    "turtle.right(45)\n",
    "turtle.fd(100)\n",
    "turtle.backward(50)\n",
    "turtle.right(90)\n",
    "turtle.fd(50)\n",
    "turtle.backward(100)\n",
    "#turtle.right(45)"
   ]
  },
  {
   "cell_type": "code",
   "execution_count": 64,
   "metadata": {},
   "outputs": [],
   "source": [
    "turtle.left(145)"
   ]
  },
  {
   "cell_type": "code",
   "execution_count": null,
   "metadata": {},
   "outputs": [],
   "source": []
  }
 ],
 "metadata": {
  "kernelspec": {
   "display_name": "Python 3",
   "language": "python",
   "name": "python3"
  },
  "language_info": {
   "codemirror_mode": {
    "name": "ipython",
    "version": 3
   },
   "file_extension": ".py",
   "mimetype": "text/x-python",
   "name": "python",
   "nbconvert_exporter": "python",
   "pygments_lexer": "ipython3",
   "version": "3.7.6"
  }
 },
 "nbformat": 4,
 "nbformat_minor": 4
}
